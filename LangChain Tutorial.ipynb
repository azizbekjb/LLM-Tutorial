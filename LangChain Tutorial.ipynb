{
 "cells": [
  {
   "cell_type": "code",
   "execution_count": 1,
   "id": "0b30cc7a-191a-4b31-b3f6-43e7af58367d",
   "metadata": {},
   "outputs": [],
   "source": [
    "from dotenv import load_dotenv\n",
    "from langchain.chat_models import init_chat_model\n",
    "import os\n",
    "import getpass"
   ]
  },
  {
   "cell_type": "code",
   "execution_count": 2,
   "id": "2f658dfe-74f8-4cd0-81ee-1bcda04fc01c",
   "metadata": {},
   "outputs": [
    {
     "name": "stdout",
     "output_type": "stream",
     "text": [
      "Model bilan aloqa bo'glandi\n"
     ]
    }
   ],
   "source": [
    "load_dotenv()\n",
    "\n",
    "if not os.environ.get(\"GOOGLE_API_KEY\"):\n",
    "    os.environ[\"GOOGLE_API_KEY\"] = getpass.getpass(\"Google Gemini uchun API kalitni kiriting\")\n",
    "\n",
    "# Init a model\n",
    "model = init_chat_model(model=\"gemini-2.5-flash\", model_provider=\"google_genai\")\n",
    "print(\"Model bilan aloqa bo'glandi\")"
   ]
  },
  {
   "cell_type": "code",
   "execution_count": 3,
   "id": "f96c6144-1456-4c99-be2d-dccbfbbe8d4a",
   "metadata": {},
   "outputs": [
    {
     "data": {
      "text/plain": [
       "\"**The Emir's Table**\""
      ]
     },
     "execution_count": 3,
     "metadata": {},
     "output_type": "execute_result"
    }
   ],
   "source": [
    "from langchain_core.messages import HumanMessage\n",
    "\n",
    "model.invoke([HumanMessage(content=\"I want to opan a resturant for uzbek food. Suggest a fancy name for this. Only one name\")]).content"
   ]
  },
  {
   "cell_type": "markdown",
   "id": "e7a9bfbe-e266-430d-ad3d-0ae91583adbc",
   "metadata": {},
   "source": [
    "# LangChain PromptTemplate"
   ]
  },
  {
   "cell_type": "code",
   "execution_count": 4,
   "id": "19978fc4-f3ba-4b11-acd2-57b1a73b0783",
   "metadata": {},
   "outputs": [
    {
     "data": {
      "text/plain": [
       "'I want to opan a resturant for Uzbek food. Suggest a fancy name for this. Only one name'"
      ]
     },
     "execution_count": 4,
     "metadata": {},
     "output_type": "execute_result"
    }
   ],
   "source": [
    "from langchain.prompts import PromptTemplate\n",
    "\n",
    "prompt_template_name = PromptTemplate(\n",
    "    input_variables = ['cuisine'],\n",
    "    template = \"I want to opan a resturant for {cuisine} food. Suggest a fancy name for this. Only one name\"\n",
    ")\n",
    "\n",
    "prompt_template_name.format(cuisine=\"Uzbek\")"
   ]
  },
  {
   "cell_type": "markdown",
   "id": "725d4cd1-3467-4897-97b9-6060139cd828",
   "metadata": {},
   "source": [
    "# Chains"
   ]
  },
  {
   "cell_type": "markdown",
   "id": "89d00961-7cb0-4753-b77b-a0459dc46eda",
   "metadata": {},
   "source": [
    "### LLMChain"
   ]
  },
  {
   "cell_type": "code",
   "execution_count": 5,
   "id": "57ea1d16-141f-45f2-a547-fcaf261f6cbe",
   "metadata": {},
   "outputs": [
    {
     "name": "stderr",
     "output_type": "stream",
     "text": [
      "C:\\Users\\User\\AppData\\Local\\Temp\\ipykernel_19872\\558854879.py:3: LangChainDeprecationWarning: The class `LLMChain` was deprecated in LangChain 0.1.17 and will be removed in 1.0. Use :meth:`~RunnableSequence, e.g., `prompt | llm`` instead.\n",
      "  chain = LLMChain(llm=model, prompt=prompt_template_name)\n",
      "C:\\Users\\User\\AppData\\Local\\Temp\\ipykernel_19872\\558854879.py:4: LangChainDeprecationWarning: The method `Chain.run` was deprecated in langchain 0.1.0 and will be removed in 1.0. Use :meth:`~invoke` instead.\n",
      "  chain.run(\"American\")\n"
     ]
    },
    {
     "data": {
      "text/plain": [
       "'The Sovereign Table'"
      ]
     },
     "execution_count": 5,
     "metadata": {},
     "output_type": "execute_result"
    }
   ],
   "source": [
    "from langchain.chains import LLMChain\n",
    "\n",
    "chain = LLMChain(llm=model, prompt=prompt_template_name)\n",
    "chain.run(\"American\")"
   ]
  },
  {
   "cell_type": "code",
   "execution_count": 6,
   "id": "c0e4a55f-8928-4919-b301-6fcccf48fab2",
   "metadata": {},
   "outputs": [
    {
     "data": {
      "text/plain": [
       "'The Azure Courtyard'"
      ]
     },
     "execution_count": 6,
     "metadata": {},
     "output_type": "execute_result"
    }
   ],
   "source": [
    "# We might be see some warnings. Now we can try new way. LLMChain is not needed\n",
    "\n",
    "chain = prompt_template_name | model\n",
    "chain.invoke(\"Uzbek\").content"
   ]
  },
  {
   "cell_type": "markdown",
   "id": "6a75cf7b-c033-4d99-938a-270c6b4f5d40",
   "metadata": {},
   "source": [
    "### SimpleSequentialChain"
   ]
  },
  {
   "cell_type": "code",
   "execution_count": 7,
   "id": "01b6c57c-f8be-48c5-931b-112ac0b7c7da",
   "metadata": {},
   "outputs": [],
   "source": [
    "prompt_template_name = PromptTemplate(\n",
    "    input_variables=['cuisine'],\n",
    "    template = \"I want to opan a resturant for {cuisine} food. Suggest a fancy name for this. Only one name\"\n",
    ")\n",
    "\n",
    "new_chain = LLMChain(llm=model, prompt=prompt_template_name)\n",
    "\n",
    "prompt_template_items = PromptTemplate(\n",
    "    input_variables=['resturant_name'],\n",
    "    template = \"Suggest some menu items for {resturant_name}. Return it as a comma separated list.\")\n",
    "\n",
    "food_item_chain = LLMChain(llm=model, prompt=prompt_template_items)\n"
   ]
  },
  {
   "cell_type": "code",
   "execution_count": 8,
   "id": "dc97d1fa-ea5d-4b22-a666-064872d67928",
   "metadata": {},
   "outputs": [
    {
     "name": "stdout",
     "output_type": "stream",
     "text": [
      "Mutton Biryani, Chicken Pulao, Mutton Qorma, Chicken Karahi, Nihari, Haleem, Seekh Kebab, Chapli Kebab, Daal Makhani, Palak Paneer, Assorted Naan, Sheermal, Raita, Kachumber Salad, Gulab Jamun, Shahi Tukda, Kheer, Lassi\n"
     ]
    }
   ],
   "source": [
    "from langchain.chains import SimpleSequentialChain\n",
    "chain = SimpleSequentialChain(chains=[new_chain, food_item_chain])\n",
    "response = chain.run(\"Uzbek\")\n",
    "print(response)"
   ]
  },
  {
   "cell_type": "markdown",
   "id": "3031565f-8372-4ebd-ad3f-969482b91ce2",
   "metadata": {},
   "source": [
    "### SequentialChain"
   ]
  },
  {
   "cell_type": "code",
   "execution_count": 9,
   "id": "67265564-fd4b-4b35-a69b-97390c395454",
   "metadata": {},
   "outputs": [],
   "source": [
    "prompt_template_name = PromptTemplate(\n",
    "    input_variables=['cuisine'],\n",
    "    template=\"I want to opan a resturant for {cuisine} food. Suggest a fancy name for this. Only one name\"\n",
    ")\n",
    "\n",
    "name_chain = LLMChain(llm=model, prompt=prompt_template_name, output_key=\"resturant_name\")\n",
    "\n",
    "prompt_template_items = PromptTemplate(\n",
    "    input_variables=['resturant_name'],\n",
    "    template=\"Suggest some menu items for {resturant_name}. Return it as a comma separated list.\"\n",
    ")\n",
    "food_items_chain = LLMChain(llm=model, prompt=prompt_template_items, output_key=\"menu_items\")"
   ]
  },
  {
   "cell_type": "code",
   "execution_count": 10,
   "id": "916f5a38-1924-41fd-9742-fd1e3fbeb7dd",
   "metadata": {},
   "outputs": [
    {
     "name": "stderr",
     "output_type": "stream",
     "text": [
      "C:\\Users\\User\\AppData\\Local\\Temp\\ipykernel_19872\\3204647046.py:8: LangChainDeprecationWarning: The method `Chain.__call__` was deprecated in langchain 0.1.0 and will be removed in 1.0. Use :meth:`~invoke` instead.\n",
      "  chain({'cuisine' : \"Uzbek\"})\n"
     ]
    },
    {
     "data": {
      "text/plain": [
       "{'cuisine': 'Uzbek',\n",
       " 'resturant_name': '**Ipak Saroy**',\n",
       " 'menu_items': 'Ipak Saroy Signature Plov, Lamb Shashlik, Tandir Samsa (Lamb & Pumpkin), Hand-Pulled Lagman, Steamed Manti, Uzbek Shurpa (Lamb & Vegetable Soup), Achichuk Salad, Kazan Kabob, Dimlama (Steamed Meat & Vegetable Stew), Samarkand Halva, Assorted Dried Fruits & Nuts Platter, Tandir Non (Uzbek Bread), Green Tea (Choy)'}"
      ]
     },
     "execution_count": 10,
     "metadata": {},
     "output_type": "execute_result"
    }
   ],
   "source": [
    "from langchain.chains import SequentialChain\n",
    "\n",
    "chain = SequentialChain(\n",
    "    chains = [name_chain, food_items_chain],\n",
    "    input_variables = ['cuisine'],\n",
    "    output_variables = ['resturant_name', 'menu_items']\n",
    ")\n",
    "chain({'cuisine' : \"Uzbek\"})   "
   ]
  },
  {
   "cell_type": "markdown",
   "id": "b2e2361d",
   "metadata": {},
   "source": [
    "# Memory"
   ]
  },
  {
   "cell_type": "code",
   "execution_count": 11,
   "id": "9ea21dd5",
   "metadata": {},
   "outputs": [
    {
     "name": "stdout",
     "output_type": "stream",
     "text": [
      "El Encanto\n"
     ]
    }
   ],
   "source": [
    "chain = LLMChain(llm=model, prompt=prompt_template_name)\n",
    "name = chain.run(\"Mexican\")\n",
    "print(name)"
   ]
  },
  {
   "cell_type": "code",
   "execution_count": null,
   "id": "7c980378",
   "metadata": {},
   "outputs": [],
   "source": [
    "name = chain.run(\"Uzbek\")"
   ]
  },
  {
   "cell_type": "code",
   "execution_count": 13,
   "id": "3f6f78ee",
   "metadata": {},
   "outputs": [
    {
     "data": {
      "text/plain": [
       "'Samarkand Gold'"
      ]
     },
     "execution_count": 13,
     "metadata": {},
     "output_type": "execute_result"
    }
   ],
   "source": [
    "name"
   ]
  },
  {
   "cell_type": "code",
   "execution_count": 14,
   "id": "5447dc7f",
   "metadata": {},
   "outputs": [
    {
     "data": {
      "text/plain": [
       "['InputType',\n",
       " 'OutputType',\n",
       " '__abstractmethods__',\n",
       " '__annotations__',\n",
       " '__call__',\n",
       " '__class__',\n",
       " '__class_getitem__',\n",
       " '__class_vars__',\n",
       " '__copy__',\n",
       " '__deepcopy__',\n",
       " '__delattr__',\n",
       " '__dict__',\n",
       " '__dir__',\n",
       " '__doc__',\n",
       " '__eq__',\n",
       " '__fields__',\n",
       " '__fields_set__',\n",
       " '__format__',\n",
       " '__ge__',\n",
       " '__get_pydantic_core_schema__',\n",
       " '__get_pydantic_json_schema__',\n",
       " '__getattr__',\n",
       " '__getattribute__',\n",
       " '__getstate__',\n",
       " '__gt__',\n",
       " '__hash__',\n",
       " '__init__',\n",
       " '__init_subclass__',\n",
       " '__iter__',\n",
       " '__le__',\n",
       " '__lt__',\n",
       " '__module__',\n",
       " '__ne__',\n",
       " '__new__',\n",
       " '__or__',\n",
       " '__orig_bases__',\n",
       " '__parameters__',\n",
       " '__pretty__',\n",
       " '__private_attributes__',\n",
       " '__pydantic_complete__',\n",
       " '__pydantic_computed_fields__',\n",
       " '__pydantic_core_schema__',\n",
       " '__pydantic_custom_init__',\n",
       " '__pydantic_decorators__',\n",
       " '__pydantic_extra__',\n",
       " '__pydantic_fields__',\n",
       " '__pydantic_fields_set__',\n",
       " '__pydantic_generic_metadata__',\n",
       " '__pydantic_init_subclass__',\n",
       " '__pydantic_parent_namespace__',\n",
       " '__pydantic_post_init__',\n",
       " '__pydantic_private__',\n",
       " '__pydantic_root_model__',\n",
       " '__pydantic_serializer__',\n",
       " '__pydantic_setattr_handlers__',\n",
       " '__pydantic_validator__',\n",
       " '__reduce__',\n",
       " '__reduce_ex__',\n",
       " '__replace__',\n",
       " '__repr__',\n",
       " '__repr_args__',\n",
       " '__repr_name__',\n",
       " '__repr_recursion__',\n",
       " '__repr_str__',\n",
       " '__rich_repr__',\n",
       " '__ror__',\n",
       " '__setattr__',\n",
       " '__setstate__',\n",
       " '__signature__',\n",
       " '__sizeof__',\n",
       " '__slots__',\n",
       " '__str__',\n",
       " '__subclasshook__',\n",
       " '__weakref__',\n",
       " '_abatch_with_config',\n",
       " '_abc_impl',\n",
       " '_acall',\n",
       " '_acall_with_config',\n",
       " '_atransform_stream_with_config',\n",
       " '_batch_with_config',\n",
       " '_calculate_keys',\n",
       " '_call',\n",
       " '_call_with_config',\n",
       " '_chain_type',\n",
       " '_copy_and_set_values',\n",
       " '_get_num_tokens',\n",
       " '_get_value',\n",
       " '_iter',\n",
       " '_parse_generation',\n",
       " '_run_output_key',\n",
       " '_setattr_handler',\n",
       " '_transform_stream_with_config',\n",
       " '_validate_inputs',\n",
       " '_validate_outputs',\n",
       " 'aapply',\n",
       " 'aapply_and_parse',\n",
       " 'abatch',\n",
       " 'abatch_as_completed',\n",
       " 'acall',\n",
       " 'agenerate',\n",
       " 'ainvoke',\n",
       " 'apply',\n",
       " 'apply_and_parse',\n",
       " 'apredict',\n",
       " 'apredict_and_parse',\n",
       " 'aprep_inputs',\n",
       " 'aprep_outputs',\n",
       " 'aprep_prompts',\n",
       " 'arun',\n",
       " 'as_tool',\n",
       " 'assign',\n",
       " 'astream',\n",
       " 'astream_events',\n",
       " 'astream_log',\n",
       " 'atransform',\n",
       " 'batch',\n",
       " 'batch_as_completed',\n",
       " 'bind',\n",
       " 'callback_manager',\n",
       " 'callbacks',\n",
       " 'config_schema',\n",
       " 'config_specs',\n",
       " 'configurable_alternatives',\n",
       " 'configurable_fields',\n",
       " 'construct',\n",
       " 'copy',\n",
       " 'create_outputs',\n",
       " 'dict',\n",
       " 'from_orm',\n",
       " 'from_string',\n",
       " 'generate',\n",
       " 'get_config_jsonschema',\n",
       " 'get_graph',\n",
       " 'get_input_jsonschema',\n",
       " 'get_input_schema',\n",
       " 'get_lc_namespace',\n",
       " 'get_name',\n",
       " 'get_output_jsonschema',\n",
       " 'get_output_schema',\n",
       " 'get_prompts',\n",
       " 'input_keys',\n",
       " 'input_schema',\n",
       " 'invoke',\n",
       " 'is_lc_serializable',\n",
       " 'json',\n",
       " 'lc_attributes',\n",
       " 'lc_id',\n",
       " 'lc_secrets',\n",
       " 'llm',\n",
       " 'llm_kwargs',\n",
       " 'map',\n",
       " 'memory',\n",
       " 'metadata',\n",
       " 'model_computed_fields',\n",
       " 'model_config',\n",
       " 'model_construct',\n",
       " 'model_copy',\n",
       " 'model_dump',\n",
       " 'model_dump_json',\n",
       " 'model_extra',\n",
       " 'model_fields',\n",
       " 'model_fields_set',\n",
       " 'model_json_schema',\n",
       " 'model_parametrized_name',\n",
       " 'model_post_init',\n",
       " 'model_rebuild',\n",
       " 'model_validate',\n",
       " 'model_validate_json',\n",
       " 'model_validate_strings',\n",
       " 'name',\n",
       " 'output_key',\n",
       " 'output_keys',\n",
       " 'output_parser',\n",
       " 'output_schema',\n",
       " 'parse_file',\n",
       " 'parse_obj',\n",
       " 'parse_raw',\n",
       " 'pick',\n",
       " 'pipe',\n",
       " 'predict',\n",
       " 'predict_and_parse',\n",
       " 'prep_inputs',\n",
       " 'prep_outputs',\n",
       " 'prep_prompts',\n",
       " 'prompt',\n",
       " 'raise_callback_manager_deprecation',\n",
       " 'return_final_only',\n",
       " 'run',\n",
       " 'save',\n",
       " 'schema',\n",
       " 'schema_json',\n",
       " 'set_verbose',\n",
       " 'stream',\n",
       " 'tags',\n",
       " 'to_json',\n",
       " 'to_json_not_implemented',\n",
       " 'transform',\n",
       " 'update_forward_refs',\n",
       " 'validate',\n",
       " 'verbose',\n",
       " 'with_alisteners',\n",
       " 'with_config',\n",
       " 'with_fallbacks',\n",
       " 'with_listeners',\n",
       " 'with_retry',\n",
       " 'with_types']"
      ]
     },
     "execution_count": 14,
     "metadata": {},
     "output_type": "execute_result"
    }
   ],
   "source": [
    "dir(chain)"
   ]
  },
  {
   "cell_type": "code",
   "execution_count": 15,
   "id": "ddc3061e",
   "metadata": {},
   "outputs": [],
   "source": [
    "chain.memory"
   ]
  },
  {
   "cell_type": "code",
   "execution_count": 16,
   "id": "3549fd35",
   "metadata": {},
   "outputs": [
    {
     "data": {
      "text/plain": [
       "NoneType"
      ]
     },
     "execution_count": 16,
     "metadata": {},
     "output_type": "execute_result"
    }
   ],
   "source": [
    "type(chain.memory)"
   ]
  },
  {
   "cell_type": "code",
   "execution_count": 17,
   "id": "2f816869",
   "metadata": {},
   "outputs": [
    {
     "name": "stderr",
     "output_type": "stream",
     "text": [
      "C:\\Users\\User\\AppData\\Local\\Temp\\ipykernel_19872\\2743924038.py:2: LangChainDeprecationWarning: Please see the migration guide at: https://python.langchain.com/docs/versions/migrating_memory/\n",
      "  memory = ConversationBufferMemory()\n"
     ]
    },
    {
     "name": "stdout",
     "output_type": "stream",
     "text": [
      "Obsidian Agave\n"
     ]
    }
   ],
   "source": [
    "from langchain.memory import ConversationBufferMemory\n",
    "memory = ConversationBufferMemory()\n",
    "\n",
    "chain = LLMChain(llm=model, prompt=prompt_template_name, memory=memory)\n",
    "name = chain.run(\"Mexican\")\n",
    "print(name)"
   ]
  },
  {
   "cell_type": "code",
   "execution_count": 18,
   "id": "b897847d",
   "metadata": {},
   "outputs": [
    {
     "name": "stdout",
     "output_type": "stream",
     "text": [
      "Human: Mexican\n",
      "AI: Obsidian Agave\n"
     ]
    }
   ],
   "source": [
    "print(chain.memory.buffer)"
   ]
  },
  {
   "cell_type": "code",
   "execution_count": 19,
   "id": "09d9c4bf",
   "metadata": {},
   "outputs": [
    {
     "name": "stdout",
     "output_type": "stream",
     "text": [
      "Nevsky\n"
     ]
    }
   ],
   "source": [
    "name = chain.run(\"Russian\")\n",
    "print(name)"
   ]
  },
  {
   "cell_type": "code",
   "execution_count": 20,
   "id": "8392dc4f",
   "metadata": {},
   "outputs": [
    {
     "name": "stdout",
     "output_type": "stream",
     "text": [
      "Human: Mexican\n",
      "AI: Obsidian Agave\n",
      "Human: Russian\n",
      "AI: Nevsky\n"
     ]
    }
   ],
   "source": [
    "print(chain.memory.buffer)"
   ]
  },
  {
   "cell_type": "code",
   "execution_count": 21,
   "id": "40e38368",
   "metadata": {},
   "outputs": [
    {
     "name": "stdout",
     "output_type": "stream",
     "text": [
      "The following is a friendly conversation between a human and an AI. The AI is talkative and provides lots of specific details from its context. If the AI does not know the answer to a question, it truthfully says it does not know.\n",
      "\n",
      "Current conversation:\n",
      "{history}\n",
      "Human: {input}\n",
      "AI:\n"
     ]
    },
    {
     "name": "stderr",
     "output_type": "stream",
     "text": [
      "C:\\Users\\User\\AppData\\Local\\Temp\\ipykernel_19872\\997297751.py:3: LangChainDeprecationWarning: The class `ConversationChain` was deprecated in LangChain 0.2.7 and will be removed in 1.0. Use :class:`~langchain_core.runnables.history.RunnableWithMessageHistory` instead.\n",
      "  convo = ConversationChain(llm=model)\n"
     ]
    }
   ],
   "source": [
    "from langchain.chains import ConversationChain\n",
    "\n",
    "convo = ConversationChain(llm=model)\n",
    "print(convo.prompt.template)"
   ]
  },
  {
   "cell_type": "code",
   "execution_count": 22,
   "id": "9fcfbaa0",
   "metadata": {},
   "outputs": [
    {
     "data": {
      "text/plain": [
       "\"Oh, that's a fantastic question about cricket history! The very first Cricket World Cup was held in **1975**, and it was won by the mighty **West Indies** team!\\n\\nThey were an absolutely dominant force in those early days. The tournament was hosted in England, and it was the first time an international cricket competition of that scale was played in the One Day International (ODI) format, with 60 overs per side.\\n\\nIn that inaugural final, played at the iconic Lord's Cricket Ground, the West Indies faced off against Australia. The West Indies, captained by the legendary Clive Lloyd, put up a fantastic score, with Lloyd himself playing an incredible innings of 102 runs off just 85 balls. They ended up defending their total successfully, beating Australia by 17 runs.\\n\\nIt was a truly historic event that set the stage for all the World Cups that followed! What a way to kick off such an important tournament!\""
      ]
     },
     "execution_count": 22,
     "metadata": {},
     "output_type": "execute_result"
    }
   ],
   "source": [
    "convo.run(\"Who won the first cricket world cup?\")"
   ]
  },
  {
   "cell_type": "code",
   "execution_count": 24,
   "id": "c755d656",
   "metadata": {},
   "outputs": [
    {
     "data": {
      "text/plain": [
       "\"It's **ten**! Keeping it short and sweet, just as you asked!\""
      ]
     },
     "execution_count": 24,
     "metadata": {},
     "output_type": "execute_result"
    }
   ],
   "source": [
    "convo.run(\"What is 5+5? Write short answer\")"
   ]
  },
  {
   "cell_type": "code",
   "execution_count": 26,
   "id": "add6edf8",
   "metadata": {},
   "outputs": [
    {
     "data": {
      "text/plain": [
       "'It was **Clive Lloyd**!'"
      ]
     },
     "execution_count": 26,
     "metadata": {},
     "output_type": "execute_result"
    }
   ],
   "source": [
    "convo.run(\" Who was the captain of the winning team? Write a short answer\")"
   ]
  },
  {
   "cell_type": "code",
   "execution_count": 27,
   "id": "e31350d0",
   "metadata": {},
   "outputs": [
    {
     "data": {
      "text/plain": [
       "ConversationBufferMemory(chat_memory=InMemoryChatMessageHistory(messages=[HumanMessage(content='Who won the first cricket world cup?', additional_kwargs={}, response_metadata={}), AIMessage(content=\"Oh, that's a fantastic question about cricket history! The very first Cricket World Cup was held in **1975**, and it was won by the mighty **West Indies** team!\\n\\nThey were an absolutely dominant force in those early days. The tournament was hosted in England, and it was the first time an international cricket competition of that scale was played in the One Day International (ODI) format, with 60 overs per side.\\n\\nIn that inaugural final, played at the iconic Lord's Cricket Ground, the West Indies faced off against Australia. The West Indies, captained by the legendary Clive Lloyd, put up a fantastic score, with Lloyd himself playing an incredible innings of 102 runs off just 85 balls. They ended up defending their total successfully, beating Australia by 17 runs.\\n\\nIt was a truly historic event that set the stage for all the World Cups that followed! What a way to kick off such an important tournament!\", additional_kwargs={}, response_metadata={}), HumanMessage(content='What is 5+5?', additional_kwargs={}, response_metadata={}), AIMessage(content=\"Oh, that's a straightforward one! Five plus five equals **ten**!\\n\\nIt's a basic addition fact, one of the first things you learn in mathematics! You're just combining two sets of five items, and when you put them together, you get a total of ten. Simple as that!\", additional_kwargs={}, response_metadata={}), HumanMessage(content='What is 5+5? Write short answer', additional_kwargs={}, response_metadata={}), AIMessage(content=\"It's **ten**! Keeping it short and sweet, just as you asked!\", additional_kwargs={}, response_metadata={}), HumanMessage(content=' Who was the captain of the winning team?', additional_kwargs={}, response_metadata={}), AIMessage(content=\"Ah, you're circling back to that incredible 1975 Cricket World Cup! The captain of the winning West Indies team was none other than the legendary **Clive Lloyd**!\\n\\nHe was an absolutely iconic figure in cricket, known for his powerful batting and astute leadership. In that very first World Cup final against Australia, he didn't just lead the team, he led from the front with the bat too! He played an absolutely crucial innings, scoring a magnificent **102 runs off just 85 balls**, which was instrumental in setting up the West Indies' winning total.\\n\\nHis captaincy during that era, and particularly in that inaugural tournament, really solidified the West Indies' reputation as a powerhouse in world cricket. He's definitely a name etched in the annals of cricket history!\", additional_kwargs={}, response_metadata={}), HumanMessage(content=' Who was the captain of the winning team? Write a short answer', additional_kwargs={}, response_metadata={}), AIMessage(content='It was **Clive Lloyd**!', additional_kwargs={}, response_metadata={})]))"
      ]
     },
     "execution_count": 27,
     "metadata": {},
     "output_type": "execute_result"
    }
   ],
   "source": [
    "convo.memory"
   ]
  },
  {
   "cell_type": "code",
   "execution_count": 28,
   "id": "425bd205",
   "metadata": {},
   "outputs": [
    {
     "data": {
      "text/plain": [
       "\"Human: Who won the first cricket world cup?\\nAI: Oh, that's a fantastic question about cricket history! The very first Cricket World Cup was held in **1975**, and it was won by the mighty **West Indies** team!\\n\\nThey were an absolutely dominant force in those early days. The tournament was hosted in England, and it was the first time an international cricket competition of that scale was played in the One Day International (ODI) format, with 60 overs per side.\\n\\nIn that inaugural final, played at the iconic Lord's Cricket Ground, the West Indies faced off against Australia. The West Indies, captained by the legendary Clive Lloyd, put up a fantastic score, with Lloyd himself playing an incredible innings of 102 runs off just 85 balls. They ended up defending their total successfully, beating Australia by 17 runs.\\n\\nIt was a truly historic event that set the stage for all the World Cups that followed! What a way to kick off such an important tournament!\\nHuman: What is 5+5?\\nAI: Oh, that's a straightforward one! Five plus five equals **ten**!\\n\\nIt's a basic addition fact, one of the first things you learn in mathematics! You're just combining two sets of five items, and when you put them together, you get a total of ten. Simple as that!\\nHuman: What is 5+5? Write short answer\\nAI: It's **ten**! Keeping it short and sweet, just as you asked!\\nHuman:  Who was the captain of the winning team?\\nAI: Ah, you're circling back to that incredible 1975 Cricket World Cup! The captain of the winning West Indies team was none other than the legendary **Clive Lloyd**!\\n\\nHe was an absolutely iconic figure in cricket, known for his powerful batting and astute leadership. In that very first World Cup final against Australia, he didn't just lead the team, he led from the front with the bat too! He played an absolutely crucial innings, scoring a magnificent **102 runs off just 85 balls**, which was instrumental in setting up the West Indies' winning total.\\n\\nHis captaincy during that era, and particularly in that inaugural tournament, really solidified the West Indies' reputation as a powerhouse in world cricket. He's definitely a name etched in the annals of cricket history!\\nHuman:  Who was the captain of the winning team? Write a short answer\\nAI: It was **Clive Lloyd**!\""
      ]
     },
     "execution_count": 28,
     "metadata": {},
     "output_type": "execute_result"
    }
   ],
   "source": [
    "convo.memory.buffer"
   ]
  },
  {
   "cell_type": "code",
   "execution_count": 29,
   "id": "3223745e",
   "metadata": {},
   "outputs": [
    {
     "name": "stderr",
     "output_type": "stream",
     "text": [
      "C:\\Users\\User\\AppData\\Local\\Temp\\ipykernel_19872\\1528840562.py:2: LangChainDeprecationWarning: Please see the migration guide at: https://python.langchain.com/docs/versions/migrating_memory/\n",
      "  memory = ConversationBufferWindowMemory(k=1)\n"
     ]
    },
    {
     "data": {
      "text/plain": [
       "\"Oh, that's a fantastic question about cricket history! The very first Cricket World Cup, officially known as the **Prudential Cup**, was won by the mighty **West Indies**!\\n\\nIt took place in **1975**, and it was hosted by **England**. Eight teams participated in that inaugural tournament: England, India, Australia, New Zealand, Pakistan, Sri Lanka, East Africa, and, of course, the West Indies.\\n\\nThe final was played on June 21st, 1975, at the iconic Lord's Cricket Ground in London. The West Indies faced off against **Australia**. It was quite a thrilling match! The West Indies batted first and scored 291 runs for 8 wickets in their 60 overs (yes, it was a 60-over-a-side match back then, not 50 like today!). Their captain, the legendary **Clive Lloyd**, played an incredible innings, scoring 102 runs off just 85 balls, which was a truly blistering knock for that era.\\n\\nIn response, Australia fought hard, with Alan Turner scoring 40 and Gary Gilmour taking 5 wickets earlier in the West Indies innings, but they were eventually bowled out for 274, giving the West Indies a victory by 17 runs.\\n\\nSo, to sum it up: **West Indies** won the first Cricket World Cup in **1975** by defeating **Australia** in the final at Lord's! It really set the stage for what has become one of the biggest sporting events in the world!\""
      ]
     },
     "execution_count": 29,
     "metadata": {},
     "output_type": "execute_result"
    }
   ],
   "source": [
    "from langchain.memory import ConversationBufferWindowMemory\n",
    "memory = ConversationBufferWindowMemory(k=1) \n",
    "\n",
    "convo = ConversationChain(llm=model, memory=memory)\n",
    "\n",
    "convo.run(\"Who won the first cricket world cup?\")"
   ]
  },
  {
   "cell_type": "code",
   "execution_count": 30,
   "id": "22ae6a61",
   "metadata": {},
   "outputs": [
    {
     "data": {
      "text/plain": [
       "\"Oh, that's a quick one! The answer to 5 + 5 is **10**!\""
      ]
     },
     "execution_count": 30,
     "metadata": {},
     "output_type": "execute_result"
    }
   ],
   "source": [
    "convo.run(\"What is 5+5? Write short answer\")"
   ]
  },
  {
   "cell_type": "code",
   "execution_count": 31,
   "id": "88af69c9",
   "metadata": {},
   "outputs": [
    {
     "data": {
      "text/plain": [
       "'Oh, that\\'s an interesting question! Based on our conversation so far, I don\\'t have any information about a \"winning team\" or who their captain might have been. We\\'ve only talked about math, specifically 5 + 5! So, I\\'m afraid I don\\'t know the answer to that one.'"
      ]
     },
     "execution_count": 31,
     "metadata": {},
     "output_type": "execute_result"
    }
   ],
   "source": [
    "convo.run(\" Who was the captain of the winning team? Write a short answer\")"
   ]
  }
 ],
 "metadata": {
  "kernelspec": {
   "display_name": "Python 3",
   "language": "python",
   "name": "python3"
  },
  "language_info": {
   "codemirror_mode": {
    "name": "ipython",
    "version": 3
   },
   "file_extension": ".py",
   "mimetype": "text/x-python",
   "name": "python",
   "nbconvert_exporter": "python",
   "pygments_lexer": "ipython3",
   "version": "3.12.2"
  }
 },
 "nbformat": 4,
 "nbformat_minor": 5
}
