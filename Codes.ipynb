{
 "cells": [
  {
   "cell_type": "code",
   "execution_count": 36,
   "id": "0b30cc7a-191a-4b31-b3f6-43e7af58367d",
   "metadata": {},
   "outputs": [],
   "source": [
    "from dotenv import load_dotenv\n",
    "from langchain.chat_models import init_chat_model\n",
    "import os\n",
    "import getpass"
   ]
  },
  {
   "cell_type": "code",
   "execution_count": 37,
   "id": "2f658dfe-74f8-4cd0-81ee-1bcda04fc01c",
   "metadata": {},
   "outputs": [
    {
     "name": "stdout",
     "output_type": "stream",
     "text": [
      "Model bilan aloqa bo'glandi\n"
     ]
    }
   ],
   "source": [
    "load_dotenv()\n",
    "\n",
    "if not os.environ.get(\"GOOGLE_API_KEY\"):\n",
    "    os.environ[\"GOOGLE_API_KEY\"] = getpass.getpass(\"Google Gemini uchun API kalitni kiriting\")\n",
    "\n",
    "# Init a model\n",
    "model = init_chat_model(model=\"gemini-2.5-flash\", model_provider=\"google_genai\")\n",
    "print(\"Model bilan aloqa bo'glandi\")"
   ]
  },
  {
   "cell_type": "code",
   "execution_count": 40,
   "id": "f96c6144-1456-4c99-be2d-dccbfbbe8d4a",
   "metadata": {},
   "outputs": [
    {
     "data": {
      "text/plain": [
       "'Samarkand Silk'"
      ]
     },
     "execution_count": 40,
     "metadata": {},
     "output_type": "execute_result"
    }
   ],
   "source": [
    "from langchain_core.messages import HumanMessage\n",
    "\n",
    "model.invoke([HumanMessage(content=\"I want to opan a resturant for uzbek food. Suggest a fancy name for this. Only one name\")]).content"
   ]
  },
  {
   "cell_type": "markdown",
   "id": "e7a9bfbe-e266-430d-ad3d-0ae91583adbc",
   "metadata": {},
   "source": [
    "# LangChain PromptTemplate"
   ]
  },
  {
   "cell_type": "code",
   "execution_count": 41,
   "id": "19978fc4-f3ba-4b11-acd2-57b1a73b0783",
   "metadata": {},
   "outputs": [
    {
     "data": {
      "text/plain": [
       "'I want to opan a resturant for Uzbek food. Suggest a fancy name for this. Only one name'"
      ]
     },
     "execution_count": 41,
     "metadata": {},
     "output_type": "execute_result"
    }
   ],
   "source": [
    "from langchain.prompts import PromptTemplate\n",
    "\n",
    "prompt_template_name = PromptTemplate(\n",
    "    input_variables = ['cuisine'],\n",
    "    template = \"I want to opan a resturant for {cuisine} food. Suggest a fancy name for this. Only one name\"\n",
    ")\n",
    "\n",
    "prompt_template_name.format(cuisine=\"Uzbek\")"
   ]
  },
  {
   "cell_type": "markdown",
   "id": "725d4cd1-3467-4897-97b9-6060139cd828",
   "metadata": {},
   "source": [
    "# Chains"
   ]
  },
  {
   "cell_type": "markdown",
   "id": "89d00961-7cb0-4753-b77b-a0459dc46eda",
   "metadata": {},
   "source": [
    "### LLMChain"
   ]
  },
  {
   "cell_type": "code",
   "execution_count": 42,
   "id": "57ea1d16-141f-45f2-a547-fcaf261f6cbe",
   "metadata": {},
   "outputs": [
    {
     "data": {
      "text/plain": [
       "'The Federalist Table'"
      ]
     },
     "execution_count": 42,
     "metadata": {},
     "output_type": "execute_result"
    }
   ],
   "source": [
    "from langchain.chains import LLMChain\n",
    "\n",
    "chain = LLMChain(llm=model, prompt=prompt_template_name)\n",
    "chain.run(\"American\")"
   ]
  },
  {
   "cell_type": "code",
   "execution_count": 43,
   "id": "c0e4a55f-8928-4919-b301-6fcccf48fab2",
   "metadata": {},
   "outputs": [
    {
     "data": {
      "text/plain": [
       "'Lapis & Spice'"
      ]
     },
     "execution_count": 43,
     "metadata": {},
     "output_type": "execute_result"
    }
   ],
   "source": [
    "# We might be see some warnings. Now we can try new way. LLMChain is not needed\n",
    "\n",
    "chain = prompt_template_name | model\n",
    "chain.invoke(\"Uzbek\").content"
   ]
  },
  {
   "cell_type": "markdown",
   "id": "6a75cf7b-c033-4d99-938a-270c6b4f5d40",
   "metadata": {},
   "source": [
    "### SimpleSequentialChain"
   ]
  },
  {
   "cell_type": "code",
   "execution_count": 44,
   "id": "01b6c57c-f8be-48c5-931b-112ac0b7c7da",
   "metadata": {},
   "outputs": [],
   "source": [
    "prompt_template_name = PromptTemplate(\n",
    "    input_variables=['cuisine'],\n",
    "    template = \"I want to opan a resturant for {cuisine} food. Suggest a fancy name for this. Only one name\"\n",
    ")\n",
    "\n",
    "new_chain = LLMChain(llm=model, prompt=prompt_template_name)\n",
    "\n",
    "prompt_template_items = PromptTemplate(\n",
    "    input_variables=['resturant_name'],\n",
    "    template = \"Suggest some menu items for {resturant_name}. Return it as a comma separated list.\")\n",
    "\n",
    "food_item_chain = LLMChain(llm=model, prompt=prompt_template_items)\n"
   ]
  },
  {
   "cell_type": "code",
   "execution_count": 45,
   "id": "dc97d1fa-ea5d-4b22-a666-064872d67928",
   "metadata": {},
   "outputs": [
    {
     "name": "stdout",
     "output_type": "stream",
     "text": [
      "Altyn Meze Tabağı (Golden Mezze Platter), Acılı Ezme, Haydari, Patlıcan Salatası (Smoked Eggplant Salad), Sigara Böreği, İçli Köfte, Mercimek Çorbası (Lentil Soup), Ezogelin Çorbası, Çoban Salata (Shepherd's Salad), Adana Kebab, Urfa Kebab, Tavuk Şiş (Chicken Shish), Kuzu Şiş (Lamb Shish), Altyn Karışık Izgara (Golden Mixed Grill), Beyti Sarma, İskender Kebab, Hünkar Beğendi (Sultan's Delight), Kuzu Güveç (Lamb Casserole), Testi Kebabı (Pottery Kebab), Mantı (Turkish Dumplings), Kıymalı Pide (Minced Meat Pide), Kuşbaşılı Pide (Diced Meat Pide), Peynirli Pide (Cheese Pide), Lahmacun, Fıstıklı Baklava (Pistachio Baklava), Künefe, Sütlaç (Rice Pudding), Kazandibi, Ayran, Ev Yapımı Limonata (Homemade Lemonade), Türk Kahvesi (Turkish Coffee), Çay (Turkish Tea), Şerbet Çeşitleri (Traditional Fruit Sherbets)\n"
     ]
    }
   ],
   "source": [
    "from langchain.chains import SimpleSequentialChain\n",
    "chain = SimpleSequentialChain(chains=[new_chain, food_item_chain])\n",
    "response = chain.run(\"Uzbek\")\n",
    "print(response)"
   ]
  },
  {
   "cell_type": "markdown",
   "id": "3031565f-8372-4ebd-ad3f-969482b91ce2",
   "metadata": {},
   "source": [
    "### SequentialChain"
   ]
  },
  {
   "cell_type": "code",
   "execution_count": 46,
   "id": "67265564-fd4b-4b35-a69b-97390c395454",
   "metadata": {},
   "outputs": [],
   "source": [
    "prompt_template_name = PromptTemplate(\n",
    "    input_variables=['cuisine'],\n",
    "    template=\"I want to opan a resturant for {cuisine} food. Suggest a fancy name for this. Only one name\"\n",
    ")\n",
    "\n",
    "name_chain = LLMChain(llm=model, prompt=prompt_template_name, output_key=\"resturant_name\")\n",
    "\n",
    "prompt_template_items = PromptTemplate(\n",
    "    input_variables=['resturant_name'],\n",
    "    template=\"Suggest some menu items for {resturant_name}. Return it as a comma separated list.\"\n",
    ")\n",
    "food_items_chain = LLMChain(llm=model, prompt=prompt_template_items, output_key=\"menu_items\")"
   ]
  },
  {
   "cell_type": "code",
   "execution_count": 47,
   "id": "916f5a38-1924-41fd-9742-fd1e3fbeb7dd",
   "metadata": {},
   "outputs": [
    {
     "data": {
      "text/plain": [
       "{'cuisine': 'Uzbek',\n",
       " 'resturant_name': 'Azure Silk',\n",
       " 'menu_items': 'Azure Tuna Tataki with Yuzu Pearls, Silk-Wrapped Shrimp Dumplings, Blue Lotus Spring Rolls, Cloud Whisper Edamame, Sapphire Noodle Salad with Grilled Chicken, Ocean Breeze Seabass with Forbidden Rice, Silken Tofu & Vegetable Stir-Fry, Pearl Noodle Bowl with Miso Glazed Salmon, Azure Berry Panna Cotta, Cloud Meringue with Lavender Cream, Silken Chocolate Lava Cake with Matcha Dust, Blue Moon Macaron Selection'}"
      ]
     },
     "execution_count": 47,
     "metadata": {},
     "output_type": "execute_result"
    }
   ],
   "source": [
    "from langchain.chains import SequentialChain\n",
    "\n",
    "chain = SequentialChain(\n",
    "    chains = [name_chain, food_items_chain],\n",
    "    input_variables = ['cuisine'],\n",
    "    output_variables = ['resturant_name', 'menu_items']\n",
    ")\n",
    "chain({'cuisine' : \"Uzbek\"})   "
   ]
  }
 ],
 "metadata": {
  "kernelspec": {
   "display_name": "Python 3 (ipykernel)",
   "language": "python",
   "name": "python3"
  },
  "language_info": {
   "codemirror_mode": {
    "name": "ipython",
    "version": 3
   },
   "file_extension": ".py",
   "mimetype": "text/x-python",
   "name": "python",
   "nbconvert_exporter": "python",
   "pygments_lexer": "ipython3",
   "version": "3.12.2"
  }
 },
 "nbformat": 4,
 "nbformat_minor": 5
}
